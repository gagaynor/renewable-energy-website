{
 "cells": [
  {
   "cell_type": "markdown",
   "id": "f40ce1e3",
   "metadata": {},
   "source": [
    "# Notebook to Create Database"
   ]
  },
  {
   "cell_type": "code",
   "execution_count": null,
   "id": "c7214c50",
   "metadata": {},
   "outputs": [],
   "source": [
    "import sqlite3\n",
    "import pandas as pd"
   ]
  },
  {
   "cell_type": "markdown",
   "id": "7fe52a75",
   "metadata": {},
   "source": [
    "Create a database and connect"
   ]
  },
  {
   "cell_type": "code",
   "execution_count": null,
   "id": "860a3c41",
   "metadata": {},
   "outputs": [],
   "source": [
    "conn = sqlite3.connect('renewable_spain.db')\n",
    "c = conn.cursor()"
   ]
  },
  {
   "cell_type": "code",
   "execution_count": null,
   "id": "317210fb",
   "metadata": {},
   "outputs": [],
   "source": []
  },
  {
   "cell_type": "code",
   "execution_count": null,
   "id": "39df362c",
   "metadata": {},
   "outputs": [],
   "source": [
    "read_raw = pd.read_csv(r'raw_data/energy_dataset.csv')\n",
    "read_raw.to_sql('energy_dataset', conn, if_exists='append',index = False')"
   ]
  },
  {
   "cell_type": "code",
   "execution_count": null,
   "id": "808c78ab",
   "metadata": {},
   "outputs": [],
   "source": []
  },
  {
   "cell_type": "code",
   "execution_count": null,
   "id": "51edb115",
   "metadata": {},
   "outputs": [],
   "source": []
  }
 ],
 "metadata": {
  "kernelspec": {
   "display_name": "Python 3 (ipykernel)",
   "language": "python",
   "name": "python3"
  },
  "language_info": {
   "codemirror_mode": {
    "name": "ipython",
    "version": 3
   },
   "file_extension": ".py",
   "mimetype": "text/x-python",
   "name": "python",
   "nbconvert_exporter": "python",
   "pygments_lexer": "ipython3",
   "version": "3.9.13"
  }
 },
 "nbformat": 4,
 "nbformat_minor": 5
}
