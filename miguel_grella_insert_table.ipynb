{
 "cells": [
  {
   "attachments": {},
   "cell_type": "markdown",
   "metadata": {},
   "source": [
    "## Miguel Grella\n",
    "# EDA and Database Normalization for the Fossil Fuels Table"
   ]
  },
  {
   "cell_type": "code",
   "execution_count": 1,
   "metadata": {},
   "outputs": [],
   "source": [
    "#Import required packages\n",
    "import pandas as pd\n",
    "import numpy as np\n",
    "import matplotlib.pyplot as plt\n",
    "import seaborn as sns\n",
    "import os"
   ]
  },
  {
   "cell_type": "code",
   "execution_count": 2,
   "metadata": {},
   "outputs": [],
   "source": [
    "#read the data from remote link\n",
    "energy_df = pd.read_csv(\"https://raw.githubusercontent.com/gagaynor/renewable-energy-website/main/raw_data/energy_dataset.csv\")\n",
    "\n"
   ]
  },
  {
   "attachments": {},
   "cell_type": "markdown",
   "metadata": {},
   "source": [
    "# 1. Transformation for the generation and demand data"
   ]
  },
  {
   "cell_type": "code",
   "execution_count": 4,
   "metadata": {},
   "outputs": [],
   "source": [
    "#convert time column to datetime and remove time zone\n",
    "energy_df['time'] = pd.to_datetime(energy_df['time'], utc=True)\n",
    "\n",
    "\n",
    "#Reformat the time column to only show the date and 24 hour time\n",
    "energy_df['time'] = energy_df['time'].dt.strftime('%Y-%m-%d %H:%M:%S')\n",
    "\n",
    "#convert time column back to datetime and remove time zone\n",
    "energy_df['time'] = pd.to_datetime(energy_df['time'], utc=False)\n",
    "\n"
   ]
  },
  {
   "cell_type": "code",
   "execution_count": 6,
   "metadata": {},
   "outputs": [],
   "source": [
    "#drop columns where all values are missing\n",
    "energy_df = energy_df.dropna(axis=1, how='all')\n",
    "\n",
    "#set time as index\n",
    "energy_df = energy_df.set_index('time', drop=True)"
   ]
  },
  {
   "attachments": {},
   "cell_type": "markdown",
   "metadata": {},
   "source": [
    "# 2. Organize columns by generation type"
   ]
  },
  {
   "cell_type": "code",
   "execution_count": 7,
   "metadata": {},
   "outputs": [],
   "source": [
    "#Pass all columns to a list\n",
    "cols = energy_df.columns.tolist()\n",
    "\n",
    "#resrict the list to the columns containing 'fossil'\n",
    "fossil_cols = [col for col in cols if 'fossil' in col]\n",
    "\n",
    "#Restrict the list to the columns containing 'total' and 'load'\n",
    "load_cols = [col for col in cols if 'total' in col or 'load' in col]\n",
    "\n",
    "#Restrict the list to the columns containing 'price'\n",
    "price_cols = [col for col in cols if 'price' in col]"
   ]
  },
  {
   "cell_type": "code",
   "execution_count": 9,
   "metadata": {},
   "outputs": [],
   "source": [
    "#Resample main dataframe to daily data\n",
    "daily_df = energy_df.resample('D').mean()\n",
    "\n",
    "#Segregate fossil fuel data into a new dataframe\n",
    "\n",
    "daily_fossil_generation = daily_df[fossil_cols]"
   ]
  },
  {
   "cell_type": "code",
   "execution_count": 10,
   "metadata": {},
   "outputs": [
    {
     "data": {
      "text/html": [
       "<div>\n",
       "<style scoped>\n",
       "    .dataframe tbody tr th:only-of-type {\n",
       "        vertical-align: middle;\n",
       "    }\n",
       "\n",
       "    .dataframe tbody tr th {\n",
       "        vertical-align: top;\n",
       "    }\n",
       "\n",
       "    .dataframe thead th {\n",
       "        text-align: right;\n",
       "    }\n",
       "</style>\n",
       "<table border=\"1\" class=\"dataframe\">\n",
       "  <thead>\n",
       "    <tr style=\"text-align: right;\">\n",
       "      <th></th>\n",
       "      <th>generation fossil brown coal/lignite</th>\n",
       "      <th>generation fossil gas</th>\n",
       "      <th>generation fossil hard coal</th>\n",
       "      <th>generation fossil oil</th>\n",
       "    </tr>\n",
       "    <tr>\n",
       "      <th>time</th>\n",
       "      <th></th>\n",
       "      <th></th>\n",
       "      <th></th>\n",
       "      <th></th>\n",
       "    </tr>\n",
       "  </thead>\n",
       "  <tbody>\n",
       "    <tr>\n",
       "      <th>2014-12-31</th>\n",
       "      <td>329.000000</td>\n",
       "      <td>4844.000000</td>\n",
       "      <td>4821.000000</td>\n",
       "      <td>162.000000</td>\n",
       "    </tr>\n",
       "    <tr>\n",
       "      <th>2015-01-01</th>\n",
       "      <td>243.708333</td>\n",
       "      <td>4187.791667</td>\n",
       "      <td>4099.458333</td>\n",
       "      <td>161.500000</td>\n",
       "    </tr>\n",
       "    <tr>\n",
       "      <th>2015-01-02</th>\n",
       "      <td>0.000000</td>\n",
       "      <td>3566.166667</td>\n",
       "      <td>1258.125000</td>\n",
       "      <td>200.833333</td>\n",
       "    </tr>\n",
       "    <tr>\n",
       "      <th>2015-01-03</th>\n",
       "      <td>0.000000</td>\n",
       "      <td>3451.791667</td>\n",
       "      <td>1375.958333</td>\n",
       "      <td>229.791667</td>\n",
       "    </tr>\n",
       "    <tr>\n",
       "      <th>2015-01-04</th>\n",
       "      <td>13.583333</td>\n",
       "      <td>3526.125000</td>\n",
       "      <td>2315.291667</td>\n",
       "      <td>356.625000</td>\n",
       "    </tr>\n",
       "  </tbody>\n",
       "</table>\n",
       "</div>"
      ],
      "text/plain": [
       "            generation fossil brown coal/lignite  generation fossil gas  \\\n",
       "time                                                                      \n",
       "2014-12-31                            329.000000            4844.000000   \n",
       "2015-01-01                            243.708333            4187.791667   \n",
       "2015-01-02                              0.000000            3566.166667   \n",
       "2015-01-03                              0.000000            3451.791667   \n",
       "2015-01-04                             13.583333            3526.125000   \n",
       "\n",
       "            generation fossil hard coal  generation fossil oil  \n",
       "time                                                            \n",
       "2014-12-31                  4821.000000             162.000000  \n",
       "2015-01-01                  4099.458333             161.500000  \n",
       "2015-01-02                  1258.125000             200.833333  \n",
       "2015-01-03                  1375.958333             229.791667  \n",
       "2015-01-04                  2315.291667             356.625000  "
      ]
     },
     "execution_count": 10,
     "metadata": {},
     "output_type": "execute_result"
    }
   ],
   "source": [
    "#pass columns where all values are zero to a list\n",
    "zero_cols = daily_fossil_generation.columns[(daily_fossil_generation == 0).all()].tolist()\n",
    "\n",
    "#restrict data to columns where all values are not zero\n",
    "daily_fossil_generation = daily_fossil_generation.drop(zero_cols, axis=1)\n",
    "\n",
    "daily_fossil_generation.head()\n",
    "\n"
   ]
  },
  {
   "attachments": {},
   "cell_type": "markdown",
   "metadata": {},
   "source": [
    "# 3. Prepare dataframe for database"
   ]
  },
  {
   "cell_type": "code",
   "execution_count": 12,
   "metadata": {},
   "outputs": [
    {
     "name": "stderr",
     "output_type": "stream",
     "text": [
      "C:\\Users\\mikeg\\AppData\\Local\\Temp\\ipykernel_9852\\3466357894.py:2: FutureWarning: The default value of regex will change from True to False in a future version. In addition, single character regular expressions will *not* be treated as literal strings when regex=True.\n",
      "  db_cols = daily_fossil_generation.reset_index().columns.str.upper().str.replace('GENERATION FOSSIL', 'GEN').str.replace(' ', '_').str.replace('-', '_').str.replace('/', '_').str.replace('(', '').str.replace(')', '')\n",
      "C:\\Users\\mikeg\\AppData\\Local\\Temp\\ipykernel_9852\\3466357894.py:2: FutureWarning: The default value of regex will change from True to False in a future version. In addition, single character regular expressions will *not* be treated as literal strings when regex=True.\n",
      "  db_cols = daily_fossil_generation.reset_index().columns.str.upper().str.replace('GENERATION FOSSIL', 'GEN').str.replace(' ', '_').str.replace('-', '_').str.replace('/', '_').str.replace('(', '').str.replace(')', '')\n"
     ]
    },
    {
     "data": {
      "text/html": [
       "<div>\n",
       "<style scoped>\n",
       "    .dataframe tbody tr th:only-of-type {\n",
       "        vertical-align: middle;\n",
       "    }\n",
       "\n",
       "    .dataframe tbody tr th {\n",
       "        vertical-align: top;\n",
       "    }\n",
       "\n",
       "    .dataframe thead th {\n",
       "        text-align: right;\n",
       "    }\n",
       "</style>\n",
       "<table border=\"1\" class=\"dataframe\">\n",
       "  <thead>\n",
       "    <tr style=\"text-align: right;\">\n",
       "      <th></th>\n",
       "      <th>TIME</th>\n",
       "      <th>GEN_BROWN_COAL_LIGNITE</th>\n",
       "      <th>GEN_GAS</th>\n",
       "      <th>GEN_HARD_COAL</th>\n",
       "      <th>GEN_OIL</th>\n",
       "    </tr>\n",
       "  </thead>\n",
       "  <tbody>\n",
       "    <tr>\n",
       "      <th>0</th>\n",
       "      <td>2014-12-31</td>\n",
       "      <td>329.000000</td>\n",
       "      <td>4844.000000</td>\n",
       "      <td>4821.000000</td>\n",
       "      <td>162.000000</td>\n",
       "    </tr>\n",
       "    <tr>\n",
       "      <th>1</th>\n",
       "      <td>2015-01-01</td>\n",
       "      <td>243.708333</td>\n",
       "      <td>4187.791667</td>\n",
       "      <td>4099.458333</td>\n",
       "      <td>161.500000</td>\n",
       "    </tr>\n",
       "    <tr>\n",
       "      <th>2</th>\n",
       "      <td>2015-01-02</td>\n",
       "      <td>0.000000</td>\n",
       "      <td>3566.166667</td>\n",
       "      <td>1258.125000</td>\n",
       "      <td>200.833333</td>\n",
       "    </tr>\n",
       "    <tr>\n",
       "      <th>3</th>\n",
       "      <td>2015-01-03</td>\n",
       "      <td>0.000000</td>\n",
       "      <td>3451.791667</td>\n",
       "      <td>1375.958333</td>\n",
       "      <td>229.791667</td>\n",
       "    </tr>\n",
       "    <tr>\n",
       "      <th>4</th>\n",
       "      <td>2015-01-04</td>\n",
       "      <td>13.583333</td>\n",
       "      <td>3526.125000</td>\n",
       "      <td>2315.291667</td>\n",
       "      <td>356.625000</td>\n",
       "    </tr>\n",
       "  </tbody>\n",
       "</table>\n",
       "</div>"
      ],
      "text/plain": [
       "        TIME  GEN_BROWN_COAL_LIGNITE      GEN_GAS  GEN_HARD_COAL     GEN_OIL\n",
       "0 2014-12-31              329.000000  4844.000000    4821.000000  162.000000\n",
       "1 2015-01-01              243.708333  4187.791667    4099.458333  161.500000\n",
       "2 2015-01-02                0.000000  3566.166667    1258.125000  200.833333\n",
       "3 2015-01-03                0.000000  3451.791667    1375.958333  229.791667\n",
       "4 2015-01-04               13.583333  3526.125000    2315.291667  356.625000"
      ]
     },
     "execution_count": 12,
     "metadata": {},
     "output_type": "execute_result"
    }
   ],
   "source": [
    "#change all column names to upper case and remove special characters and spaces\n",
    "db_cols = daily_fossil_generation.reset_index().columns.str.upper().str.replace('GENERATION FOSSIL', 'GEN').str.replace(' ', '_').str.replace('-', '_').str.replace('/', '_').str.replace('(', '').str.replace(')', '')\n",
    "\n",
    "# Create a new dataframe with the new column names\n",
    "db_df = daily_fossil_generation.reset_index().copy().rename(columns=dict(zip(daily_fossil_generation.reset_index().columns, db_cols)))\n",
    "\n",
    "db_df.head()\n"
   ]
  },
  {
   "attachments": {},
   "cell_type": "markdown",
   "metadata": {},
   "source": [
    "# The following section  deals with database design"
   ]
  },
  {
   "cell_type": "code",
   "execution_count": 13,
   "metadata": {},
   "outputs": [
    {
     "name": "stdout",
     "output_type": "stream",
     "text": [
      "['renewable_spain.db']\n"
     ]
    }
   ],
   "source": [
    "#get path for working directory\n",
    "path = os.getcwd()\n",
    "\n",
    "#import database sqliite3 package\n",
    "import sqlite3\n",
    "\n",
    "#print *.db files in the working directory\n",
    "print([file for file in os.listdir(path) if file.endswith('.db')])"
   ]
  },
  {
   "cell_type": "code",
   "execution_count": 14,
   "metadata": {},
   "outputs": [
    {
     "data": {
      "text/plain": [
       "1462"
      ]
     },
     "execution_count": 14,
     "metadata": {},
     "output_type": "execute_result"
    }
   ],
   "source": [
    "#connect to database\n",
    "conn = sqlite3.connect(path + '\\\\renewable_spain.db')\n",
    "\n",
    "#Create a cursor\n",
    "c = conn.cursor()\n",
    "\n",
    "#store the dataframe in the database, using the table name 'fossil_fuel_generation'\n",
    "db_df.to_sql('fossil_fuel_generation', conn, if_exists='replace', index=False)\n"
   ]
  },
  {
   "cell_type": "code",
   "execution_count": 15,
   "metadata": {},
   "outputs": [
    {
     "data": {
      "text/html": [
       "<div>\n",
       "<style scoped>\n",
       "    .dataframe tbody tr th:only-of-type {\n",
       "        vertical-align: middle;\n",
       "    }\n",
       "\n",
       "    .dataframe tbody tr th {\n",
       "        vertical-align: top;\n",
       "    }\n",
       "\n",
       "    .dataframe thead th {\n",
       "        text-align: right;\n",
       "    }\n",
       "</style>\n",
       "<table border=\"1\" class=\"dataframe\">\n",
       "  <thead>\n",
       "    <tr style=\"text-align: right;\">\n",
       "      <th></th>\n",
       "      <th>TIME</th>\n",
       "      <th>GEN_BROWN_COAL_LIGNITE</th>\n",
       "      <th>GEN_GAS</th>\n",
       "      <th>GEN_HARD_COAL</th>\n",
       "      <th>GEN_OIL</th>\n",
       "    </tr>\n",
       "  </thead>\n",
       "  <tbody>\n",
       "    <tr>\n",
       "      <th>0</th>\n",
       "      <td>2014-12-31 00:00:00</td>\n",
       "      <td>329.000000</td>\n",
       "      <td>4844.000000</td>\n",
       "      <td>4821.000000</td>\n",
       "      <td>162.000000</td>\n",
       "    </tr>\n",
       "    <tr>\n",
       "      <th>1</th>\n",
       "      <td>2015-01-01 00:00:00</td>\n",
       "      <td>243.708333</td>\n",
       "      <td>4187.791667</td>\n",
       "      <td>4099.458333</td>\n",
       "      <td>161.500000</td>\n",
       "    </tr>\n",
       "    <tr>\n",
       "      <th>2</th>\n",
       "      <td>2015-01-02 00:00:00</td>\n",
       "      <td>0.000000</td>\n",
       "      <td>3566.166667</td>\n",
       "      <td>1258.125000</td>\n",
       "      <td>200.833333</td>\n",
       "    </tr>\n",
       "    <tr>\n",
       "      <th>3</th>\n",
       "      <td>2015-01-03 00:00:00</td>\n",
       "      <td>0.000000</td>\n",
       "      <td>3451.791667</td>\n",
       "      <td>1375.958333</td>\n",
       "      <td>229.791667</td>\n",
       "    </tr>\n",
       "    <tr>\n",
       "      <th>4</th>\n",
       "      <td>2015-01-04 00:00:00</td>\n",
       "      <td>13.583333</td>\n",
       "      <td>3526.125000</td>\n",
       "      <td>2315.291667</td>\n",
       "      <td>356.625000</td>\n",
       "    </tr>\n",
       "    <tr>\n",
       "      <th>...</th>\n",
       "      <td>...</td>\n",
       "      <td>...</td>\n",
       "      <td>...</td>\n",
       "      <td>...</td>\n",
       "      <td>...</td>\n",
       "    </tr>\n",
       "    <tr>\n",
       "      <th>1457</th>\n",
       "      <td>2018-12-27 00:00:00</td>\n",
       "      <td>701.041667</td>\n",
       "      <td>9768.750000</td>\n",
       "      <td>2901.125000</td>\n",
       "      <td>297.000000</td>\n",
       "    </tr>\n",
       "    <tr>\n",
       "      <th>1458</th>\n",
       "      <td>2018-12-28 00:00:00</td>\n",
       "      <td>632.000000</td>\n",
       "      <td>7994.166667</td>\n",
       "      <td>2745.625000</td>\n",
       "      <td>273.458333</td>\n",
       "    </tr>\n",
       "    <tr>\n",
       "      <th>1459</th>\n",
       "      <td>2018-12-29 00:00:00</td>\n",
       "      <td>0.000000</td>\n",
       "      <td>4972.458333</td>\n",
       "      <td>1716.208333</td>\n",
       "      <td>253.375000</td>\n",
       "    </tr>\n",
       "    <tr>\n",
       "      <th>1460</th>\n",
       "      <td>2018-12-30 00:00:00</td>\n",
       "      <td>0.000000</td>\n",
       "      <td>5293.208333</td>\n",
       "      <td>1520.916667</td>\n",
       "      <td>224.083333</td>\n",
       "    </tr>\n",
       "    <tr>\n",
       "      <th>1461</th>\n",
       "      <td>2018-12-31 00:00:00</td>\n",
       "      <td>0.000000</td>\n",
       "      <td>6285.913043</td>\n",
       "      <td>2226.043478</td>\n",
       "      <td>198.565217</td>\n",
       "    </tr>\n",
       "  </tbody>\n",
       "</table>\n",
       "<p>1462 rows × 5 columns</p>\n",
       "</div>"
      ],
      "text/plain": [
       "                     TIME  GEN_BROWN_COAL_LIGNITE      GEN_GAS  GEN_HARD_COAL  \\\n",
       "0     2014-12-31 00:00:00              329.000000  4844.000000    4821.000000   \n",
       "1     2015-01-01 00:00:00              243.708333  4187.791667    4099.458333   \n",
       "2     2015-01-02 00:00:00                0.000000  3566.166667    1258.125000   \n",
       "3     2015-01-03 00:00:00                0.000000  3451.791667    1375.958333   \n",
       "4     2015-01-04 00:00:00               13.583333  3526.125000    2315.291667   \n",
       "...                   ...                     ...          ...            ...   \n",
       "1457  2018-12-27 00:00:00              701.041667  9768.750000    2901.125000   \n",
       "1458  2018-12-28 00:00:00              632.000000  7994.166667    2745.625000   \n",
       "1459  2018-12-29 00:00:00                0.000000  4972.458333    1716.208333   \n",
       "1460  2018-12-30 00:00:00                0.000000  5293.208333    1520.916667   \n",
       "1461  2018-12-31 00:00:00                0.000000  6285.913043    2226.043478   \n",
       "\n",
       "         GEN_OIL  \n",
       "0     162.000000  \n",
       "1     161.500000  \n",
       "2     200.833333  \n",
       "3     229.791667  \n",
       "4     356.625000  \n",
       "...          ...  \n",
       "1457  297.000000  \n",
       "1458  273.458333  \n",
       "1459  253.375000  \n",
       "1460  224.083333  \n",
       "1461  198.565217  \n",
       "\n",
       "[1462 rows x 5 columns]"
      ]
     },
     "execution_count": 15,
     "metadata": {},
     "output_type": "execute_result"
    }
   ],
   "source": [
    "#Check the 'fossil_fuel_generation' table is in the database\n",
    "pd.read_sql_query(\"SELECT * FROM fossil_fuel_generation\", conn)"
   ]
  },
  {
   "cell_type": "code",
   "execution_count": 16,
   "metadata": {},
   "outputs": [],
   "source": [
    "#close the connection\n",
    "conn.close()"
   ]
  }
 ],
 "metadata": {
  "kernelspec": {
   "display_name": "copilot",
   "language": "python",
   "name": "python3"
  },
  "language_info": {
   "codemirror_mode": {
    "name": "ipython",
    "version": 3
   },
   "file_extension": ".py",
   "mimetype": "text/x-python",
   "name": "python",
   "nbconvert_exporter": "python",
   "pygments_lexer": "ipython3",
   "version": "3.9.12"
  },
  "orig_nbformat": 4
 },
 "nbformat": 4,
 "nbformat_minor": 2
}
